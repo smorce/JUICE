{
  "nbformat": 4,
  "nbformat_minor": 0,
  "metadata": {
    "colab": {
      "provenance": []
    },
    "kernelspec": {
      "name": "python3",
      "display_name": "Python 3"
    },
    "language_info": {
      "name": "python"
    }
  },
  "cells": [
    {
      "cell_type": "markdown",
      "metadata": {},
      "source": [
        "<p align=\"center\">\n",
        "<img src=\"https://raw.githubusercontent.com/smorce/JUICE/main/juice/assets/JUICE.png\" width=\"100%\">\n",
        "<br>\n",
        "<h1 align=\"center\">JUICE</h1>\n",
        "<h2 align=\"center\">\n",
        "  ～ Just Unlimited Intelligent Conversational Engine ～\n",
        "<br>\n",
        "  <img alt=\"PyPI - Version\" src=\"https://img.shields.io/pypi/v/JUICE\">\n",
        "<img alt=\"PyPI - Format\" src=\"https://img.shields.io/pypi/format/JUICE\">\n",
        "<img alt=\"PyPI - Implementation\" src=\"https://img.shields.io/pypi/implementation/JUICE\">\n",
        "<img alt=\"PyPI - Status\" src=\"https://img.shields.io/pypi/status/JUICE\">\n",
        "<img alt=\"PyPI - Downloads\" src=\"https://img.shields.io/pypi/dd/JUICE\">\n",
        "<img alt=\"PyPI - Downloads\" src=\"https://img.shields.io/pypi/dw/JUICE\">\n",
        "<a href=\"https://github.com/smorce/JUICE\" title=\"Go to GitHub repo\"><img src=\"https://img.shields.io/static/v1?label=JUICE&message=smorce&color=blue&logo=github\"></a>\n",
        "<img alt=\"GitHub Repo stars\" src=\"https://img.shields.io/github/stars/smorce/JUICE\">\n",
        "<a href=\"https://github.com/smorce/JUICE\"><img alt=\"forks - smorce\" src=\"https://img.shields.io/github/forks/JUICE/smorce?style=social\"></a>\n",
        "<a href=\"https://github.com/smorce/JUICE\"><img alt=\"GitHub Last Commit\" src=\"https://img.shields.io/github/last-commit/smorce/JUICE\"></a>\n",
        "<a href=\"https://github.com/smorce/JUICE\"><img alt=\"GitHub Top Language\" src=\"https://img.shields.io/github/languages/top/smorce/JUICE\"></a>\n",
        "<img alt=\"GitHub Release\" src=\"https://img.shields.io/github/v/release/smorce/JUICE?color=red\">\n",
        "<img alt=\"GitHub Tag\" src=\"https://img.shields.io/github/v/tag/smorce/JUICE?sort=semver&color=orange\">\n",
        "<img alt=\"GitHub Actions Workflow Status\" src=\"https://img.shields.io/github/actions/workflow/status/smorce/JUICE/publish-to-pypi.yml\">\n",
        "<br>\n",
        "<p align=\"center\">\n",
        "  <a href=\"https://note.com/smorce/\"><b>[🌐 Website]</b></a> •\n",
        "  <a href=\"https://github.com/smorce\"><b>[🐱 GitHub]</b></a>\n",
        "  <a href=\"https://x.com/smorce1\"><b>[🐦 Twitter]</b></a> •\n",
        "  <a href=\"https://note.com/smorce/\"><b>[🍀 Official Blog]</b></a>\n",
        "</p>\n",
        "\n",
        "</h2>\n",
        "\n",
        "</p>\n",
        "\n",
        ">[!IMPORTANT]\n",
        ">このリポジトリのリリースノートやREADME、コミットメッセージの9割近くは[claude.ai](https://claude.ai/)や[ChatGPT4](https://chatgpt.com/)を活用した[AIRA](https://github.com/Sunwood-ai-labs/AIRA), [SourceSage](https://github.com/Sunwood-ai-labs/SourceSage), [Gaiah](https://github.com/Sunwood-ai-labs/Gaiah), [HarmonAI_II](https://github.com/Sunwood-ai-labs/HarmonAI_II)で生成しています。\n",
        "\n",
        "# JUICE: 超高速AIチャットボット\n",
        "\n",
        "D-ID、OpenAI、ElevenLabs APIを活用した、超高速応答を実現するAIチャットボット。\n",
        "\n",
        "## プロジェクトの概要\n",
        "\n",
        "JUICEは、最先端のAI技術を駆使して開発された、超高速応答が可能なAIチャットボットです。ユーザーが入力した音声をリアルタイムで認識し、自然で滑らかな対話を実現します。従来のチャットボットでは課題であった応答速度の遅延を最小限に抑え、ストレスフリーなコミュニケーションを可能にします。\n",
        "\n",
        "**対象ユーザー:**\n",
        "\n",
        "- AIチャットボットとの自然な対話を体験したい方\n",
        "- 従来のチャットボットの応答速度に不満を感じている方\n",
        "- 最新のAI技術を活用したサービスに興味関心のある方\n",
        "\n",
        "**開発の背景:**\n",
        "\n",
        "近年、AI技術の進歩により、人間と自然な対話を行うことができるチャットボットが注目されています。しかし、既存のチャットボットの多くは、応答速度の遅延や不自然な発話などが課題として挙げられていました。JUICEは、これらの課題を解決するために開発されました。D-ID、OpenAI、ElevenLabsのAPIを組み合わせることで、高速かつ自然な対話を実現し、ユーザーにストレスフリーなコミュニケーションを提供します。\n",
        "\n",
        "## 主な機能\n",
        "\n",
        "- **リアルタイム音声認識:** ブラウザのWeb Speech APIを使用してユーザーの音声をリアルタイムでテキストに変換します。\n",
        "- **AIによる自然な対話:** OpenAIのGPTモデル(GPT-4o mini)を活用し、ユーザーの入力内容に基づいて、自然で人間らしい応答を生成します。\n",
        "- **高速音声合成:** ElevenLabs API(Turbo v2.5)を用いて、高品質な音声を高速に合成し、AIキャラクターに喋らせます。生成した合成音声は一時的に tmpfiles.org にアップロードします。\n",
        "- **D-IDによる動画生成:** 音声と同期したリアルな動画を生成し、より人間らしい対話を実現します。\n",
        "\n",
        "## 特徴\n",
        "\n",
        "- **超高速応答:** 従来のチャットボットと比較して、圧倒的な応答速度を実現しています。\n",
        "- **自然で滑らかな対話:** 高度なAI技術により、まるで人間と話しているかのような自然な対話を体験できます。\n",
        "- **高品質な音声と動画:** ElevenLabsとD-IDのAPIにより、高品質な音声と動画を生成し、リアルなコミュニケーションを実現します。\n",
        "\n",
        "## 技術スタック\n",
        "\n",
        "- **言語:** JavaScript\n",
        "- **フレームワーク:** Express.js\n",
        "- **ライブラリ:** \n",
        "    - js-yaml: YAMLファイルの読み込み\n",
        "    - Web Speech API: 音声認識\n",
        "    - Fetch API: API通信\n",
        "- **API:**\n",
        "    - D-ID API: 動画生成\n",
        "    - OpenAI API: AIチャットボット\n",
        "    - ElevenLabs API: 音声合成\n",
        "- **その他:**\n",
        "    - HTML5\n",
        "    - CSS3\n",
        "\n",
        "## 開発環境\n",
        "\n",
        "- **OS:** POSIX準拠 (macOS, Linuxなど)\n",
        "- **Node.js:** 14 以上\n",
        "- **npm:** 6 以上\n",
        "\n",
        "**開発環境の構築手順:**\n",
        "\n",
        "1. Node.js と npm をインストールします。\n",
        "2. プロジェクトのルートディレクトリに移動し、以下のコマンドを実行して依存関係をインストールします。"
      ]
    },
    {
      "cell_type": "code",
      "execution_count": null,
      "metadata": {},
      "outputs": [],
      "source": [
        "npm install\n",
        ""
      ]
    },
    {
      "cell_type": "markdown",
      "metadata": {},
      "source": [
        "## インストール方法\n",
        "\n",
        "1. リポジトリをクローンします。"
      ]
    },
    {
      "cell_type": "code",
      "execution_count": null,
      "metadata": {},
      "outputs": [],
      "source": [
        "git clone https://github.com/smorce/JUICE.git\n",
        ""
      ]
    },
    {
      "cell_type": "markdown",
      "metadata": {},
      "source": [
        "2. プロジェクトディレクトリに移動します。"
      ]
    },
    {
      "cell_type": "code",
      "execution_count": null,
      "metadata": {},
      "outputs": [],
      "source": [
        "cd JUICE\n",
        ""
      ]
    },
    {
      "cell_type": "markdown",
      "metadata": {},
      "source": [
        "3. juiceフォルダで `api.yaml` ファイルを作成し、以下の内容で設定します。"
      ]
    },
    {
      "cell_type": "code",
      "execution_count": null,
      "metadata": {},
      "outputs": [],
      "source": [
        "# D-ID API の設定\n",
        "dId:\n",
        "  url: https://api.d-id.com\n",
        "  service: talks\n",
        "  key: hogehoge\n",
        "\n",
        "# OpenAI API の設定\n",
        "openAI:\n",
        "  key: hogehoge\n",
        "\n",
        "# ElevenLabs API の設定\n",
        "elevenLabs:\n",
        "  key: hogehoge\n",
        "\n",
        ""
      ]
    },
    {
      "cell_type": "markdown",
      "metadata": {},
      "source": [
        "4. プロジェクトを開発環境で実行します。"
      ]
    },
    {
      "cell_type": "code",
      "execution_count": null,
      "metadata": {},
      "outputs": [],
      "source": [
        "npm run dev\n",
        ""
      ]
    },
    {
      "cell_type": "markdown",
      "metadata": {},
      "source": [
        "5. ブラウザで `http://localhost:3000` にアクセスします。\n",
        "\n",
        "## 使用方法\n",
        "\n",
        "1.  \"Connect\" ボタンをクリックして、D-ID API に接続します。\n",
        "2.  \"Start Streaming\" ボタンをクリックして、音声認識を開始します。\n",
        "3.  準備完了となったらAIチャットボットに話しかけます。\n",
        "4.  少しの遅延でAIチャットボットが応答します。\n",
        "5.  \"Destroy\" ボタンをクリックして、終了します。\n",
        "\n",
        "## 貢献方法\n",
        "\n",
        "- Issueの報告、プルリクエストの作成、ドキュメントの改善など、プロジェクトへの貢献を歓迎します。\n",
        "\n",
        "## ライセンス\n",
        "\n",
        "MITライセンス\n",
        "\n",
        "## 謝辞\n",
        "\n",
        "- このプロジェクトは、D-ID、OpenAI、ElevenLabsのAPIを利用しています。\n",
        "- 開発にあたり、多くのオープンソースソフトウェアに感謝いたします。"
      ]
    }
  ]
}